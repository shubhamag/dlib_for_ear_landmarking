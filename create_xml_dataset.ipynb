{
 "cells": [
  {
   "cell_type": "code",
   "execution_count": 4,
   "metadata": {},
   "outputs": [],
   "source": [
    "import xml.etree.cElementTree as ET\n",
    "import os\n",
    "import numpy as np"
   ]
  },
  {
   "cell_type": "code",
   "execution_count": 31,
   "metadata": {},
   "outputs": [],
   "source": [
    "##CREATE TRAIN DATA XML FOR IBUG EAR DATASET ##\n",
    "##https://ibug.doc.ic.ac.uk/resources/ibug-ears/##\n",
    "\n",
    "##CREATE TEST DATA XML FOR IBUG EAR DATASET ##\n",
    "##https://ibug.doc.ic.ac.uk/resources/ibug-ears/##\n",
    "\n",
    "root = ET.Element(\"dataset\")\n",
    "ET.SubElement(root,\"name\").text= \"Train dlib for ears\"\n",
    "imgs_elem = ET.Element(\"images\")\n",
    "\n",
    "path = '/home/shubham/BA/dlib_ears/CollectionA/train'\n",
    "for file in os.listdir(path):\n",
    "    if file.endswith(\".pts\"):\n",
    "        \n",
    "        fpath = os.path.join(path,file)\n",
    "        basename = file.split(\".\")[0]\n",
    "        imagename = basename + \".png\"\n",
    "        img_elem = ET.Element(\"image\",file=os.path.join('train',imagename))\n",
    "        fo = open(fpath, \"r\")\n",
    "        lines = fo.readlines()\n",
    "        \n",
    "        part_elems = []\n",
    "        lms = []\n",
    "        flag=0\n",
    "        cnt=0\n",
    "        for l in lines:\n",
    "            if l.strip()==\"{\":\n",
    "                flag=1\n",
    "                continue\n",
    "            if(flag==0):\n",
    "                continue\n",
    "            else:\n",
    "                if(l.strip()==\"}\"):\n",
    "                    flag=0\n",
    "                    break\n",
    "                \n",
    "                nums  = l.strip().split(\" \")\n",
    "\n",
    "                cnt+=1\n",
    "                nums = [float(n) for n in nums]\n",
    "                part_elems.append( ET.Element(\"part\",name=\"{0:02d}\".format(cnt),x=str(int(nums[0])),\n",
    "                                              y=str(int(nums[1]))))\n",
    "                lms.append(nums)\n",
    "                \n",
    "#                 print(nums)\n",
    "                continue\n",
    "\n",
    "        lms = np.array(lms)\n",
    "        xmin,ymin = np.min(lms,axis=0).tolist()\n",
    "        xmax,ymax = np.max(lms,axis=0).tolist()\n",
    "        width = xmax-xmin\n",
    "        height = ymax-ymin\n",
    "        \n",
    "        box_elem =  ET.Element(\"box\",top=\"{}\".format(int(ymin)), left=\"{}\".format(int(xmin)),\n",
    "                               width=\"{}\".format(int(width)), height=\"{}\".format(int(height)))\n",
    "        for p in part_elems:\n",
    "            box_elem.append(p)\n",
    "        img_elem.append(box_elem)\n",
    "        imgs_elem.append(img_elem)\n",
    "\n",
    "\n",
    "root.append(imgs_elem)\n",
    "tree = ET.ElementTree(root)\n",
    "tree.write(\"ear_train.xml\")\n",
    "            \n",
    "                    \n",
    "        \n",
    "        \n",
    "\n",
    "            \n",
    "                    \n",
    "        \n",
    "        \n"
   ]
  },
  {
   "cell_type": "code",
   "execution_count": 30,
   "metadata": {},
   "outputs": [],
   "source": [
    "##CREATE TEST DATA XML FOR IBUG EAR DATASET ##\n",
    "##https://ibug.doc.ic.ac.uk/resources/ibug-ears/##\n",
    "\n",
    "root = ET.Element(\"dataset\")\n",
    "ET.SubElement(root,\"name\").text= \"Test dlib for ears\"\n",
    "imgs_elem = ET.Element(\"images\")\n",
    "\n",
    "path = '/home/shubham/BA/dlib_ears/CollectionA/test'\n",
    "for file in os.listdir(path):\n",
    "    if file.endswith(\".pts\"):\n",
    "        \n",
    "        fpath = os.path.join(path,file)\n",
    "        basename = file.split(\".\")[0]\n",
    "        imagename = basename + \".png\"\n",
    "        img_elem = ET.Element(\"image\",file=os.path.join('test',imagename))\n",
    "        fo = open(fpath, \"r\")\n",
    "        lines = fo.readlines()\n",
    "        \n",
    "        part_elems = []\n",
    "        lms = []\n",
    "        flag=0\n",
    "        cnt=0\n",
    "        for l in lines:\n",
    "            if l.strip()==\"{\":\n",
    "                flag=1\n",
    "                continue\n",
    "            if(flag==0):\n",
    "                continue\n",
    "            else:\n",
    "                if(l.strip()==\"}\"):\n",
    "                    flag=0\n",
    "                    break\n",
    "                \n",
    "                nums  = l.strip().split(\" \")\n",
    "\n",
    "                cnt+=1\n",
    "                nums = [float(n) for n in nums]\n",
    "                part_elems.append( ET.Element(\"part\",name=\"{0:02d}\".format(cnt),x=str(int(nums[0])),\n",
    "                                              y=str(int(nums[1]))))\n",
    "                lms.append(nums)\n",
    "                \n",
    "#                 print(nums)\n",
    "                continue\n",
    "\n",
    "        lms = np.array(lms)\n",
    "        xmin,ymin = np.min(lms,axis=0).tolist()\n",
    "        xmax,ymax = np.max(lms,axis=0).tolist()\n",
    "        width = xmax-xmin\n",
    "        height = ymax-ymin\n",
    "        \n",
    "        box_elem =  ET.Element(\"box\",top=\"{}\".format(int(ymin)), left=\"{}\".format(int(xmin)),\n",
    "                               width=\"{}\".format(int(width)), height=\"{}\".format(int(height)))\n",
    "        for p in part_elems:\n",
    "            box_elem.append(p)\n",
    "        img_elem.append(box_elem)\n",
    "        imgs_elem.append(img_elem)\n",
    "\n",
    "\n",
    "root.append(imgs_elem)\n",
    "tree = ET.ElementTree(root)\n",
    "tree.write(\"ear_test.xml\")\n",
    "            \n",
    "                    \n",
    "        \n",
    "        \n"
   ]
  },
  {
   "cell_type": "code",
   "execution_count": 26,
   "metadata": {},
   "outputs": [
    {
     "data": {
      "text/plain": [
       "'2'"
      ]
     },
     "execution_count": 26,
     "metadata": {},
     "output_type": "execute_result"
    }
   ],
   "source": [
    "str(2)"
   ]
  },
  {
   "cell_type": "code",
   "execution_count": 29,
   "metadata": {},
   "outputs": [
    {
     "ename": "ValueError",
     "evalue": "invalid literal for int() with base 10: '2.34'",
     "output_type": "error",
     "traceback": [
      "\u001b[0;31m---------------------------------------------------------------------------\u001b[0m",
      "\u001b[0;31mValueError\u001b[0m                                Traceback (most recent call last)",
      "\u001b[0;32m<ipython-input-29-d76385b970c0>\u001b[0m in \u001b[0;36m<module>\u001b[0;34m\u001b[0m\n\u001b[0;32m----> 1\u001b[0;31m \u001b[0ma\u001b[0m \u001b[0;34m=\u001b[0m \u001b[0mint\u001b[0m\u001b[0;34m(\u001b[0m\u001b[0;34m'2.34'\u001b[0m\u001b[0;34m)\u001b[0m\u001b[0;34m\u001b[0m\u001b[0m\n\u001b[0m",
      "\u001b[0;31mValueError\u001b[0m: invalid literal for int() with base 10: '2.34'"
     ]
    }
   ],
   "source": [
    "a = int('2.34')"
   ]
  },
  {
   "cell_type": "code",
   "execution_count": null,
   "metadata": {},
   "outputs": [],
   "source": []
  }
 ],
 "metadata": {
  "kernelspec": {
   "display_name": "Python 3",
   "language": "python",
   "name": "python3"
  },
  "language_info": {
   "codemirror_mode": {
    "name": "ipython",
    "version": 3
   },
   "file_extension": ".py",
   "mimetype": "text/x-python",
   "name": "python",
   "nbconvert_exporter": "python",
   "pygments_lexer": "ipython3",
   "version": "3.5.2"
  }
 },
 "nbformat": 4,
 "nbformat_minor": 2
}
